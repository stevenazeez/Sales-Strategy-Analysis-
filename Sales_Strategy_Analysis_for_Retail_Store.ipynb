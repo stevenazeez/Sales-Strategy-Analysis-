{
  "nbformat": 4,
  "nbformat_minor": 0,
  "metadata": {
    "colab": {
      "name": "Sales Strategy Analysis for Retail Store",
      "provenance": [],
      "authorship_tag": "ABX9TyPBhz5A6EOMYIin8Tb6n0Mw",
      "include_colab_link": false
    },
    "kernelspec": {
      "name": "python3",
      "display_name": "Python 3"
    },
    "language_info": {
      "name": "python"
    }
  },
  "cells": [
    {
      "cell_type": "markdown",
      "metadata": {
        "id": "view-in-github",
        "colab_type": "text"
      },
      "source": [
        "<a href=\"https://colab.research.google.com/github/stevenazeez/Sales-Strategy-Analysis-/blob/main/Sales_Strategy_Analysis_for_Retail_Store.ipynb\" target=\"_parent\"><img src=\"https://colab.research.google.com/assets/colab-badge.svg\" alt=\"Open In Colab\"/></a>"
      ]
    },
    {
      "cell_type": "markdown",
      "metadata": {
        "id": "CKMgCleQzWAt"
      },
      "source": [
        "*Welcome!*"
      ]
    },
    {
      "cell_type": "markdown",
      "metadata": {
        "id": "GUUgJ17CzYyY"
      },
      "source": [
        "## **Sales Strategy Analysis for SuperStore**\n",
        "\n",
        "For this analysis project, the objective is to develop useful insights that will assist sales department of the superstore in making core business initiatives in order to perfect their sales strategy approach.\n",
        "Our goal is to answer these following questions\n",
        "\n",
        "*   What was the best month for sales? How much was earned that month?\n",
        "*   Which city had the highest number of sales?\n",
        "*   Recommend the most appropriate time to display advertising to maximize the likelihood of customers buying the products?\n",
        "*   What products sold the most? Why do you think it sold the most?\n",
        "\n",
        "> Let's Begin!"
      ]
    },
    {
      "cell_type": "markdown",
      "metadata": {
        "id": "MaqoIgR8097z"
      },
      "source": [
        "**Importing Libaries**"
      ]
    },
    {
      "cell_type": "code",
      "metadata": {
        "id": "kI47b7ef1PGR"
      },
      "source": [
        "import pandas as pd\n",
        "import numpy as np\n",
        "import seaborn as sns\n",
        "import matplotlib.pyplot as plt\n",
        "import datetime\n",
        "%matplotlib inline"
      ],
      "execution_count": 51,
      "outputs": []
    },
    {
      "cell_type": "markdown",
      "metadata": {
        "id": "nILjUrPM1dUx"
      },
      "source": [
        "**Getting Data**\n",
        "\n",
        "> Data Source - K-Mart (a major online store in the United States)\n",
        "\n",
        "Loading data for each month"
      ]
    },
    {
      "cell_type": "code",
      "metadata": {
        "id": "9-YT-4392BCi"
      },
      "source": [
        "M1 = pd.read_csv(\"/content/Sales_January_2019.csv\")\n",
        "M2 = pd.read_csv(\"/content/Sales_February_2019.csv\")\n",
        "M3 = pd.read_csv(\"/content/Sales_March_2019.csv\")\n",
        "M4 = pd.read_csv(\"/content/Sales_April_2019.csv\")\n",
        "M5 = pd.read_csv(\"/content/Sales_May_2019.csv\")\n",
        "M6 = pd.read_csv(\"/content/Sales_June_2019.csv\")\n",
        "M7 = pd.read_csv(\"/content/Sales_July_2019.csv\")\n",
        "M8 = pd.read_csv(\"/content/Sales_August_2019.csv\")\n",
        "M9 = pd.read_csv(\"/content/Sales_September_2019.csv\")\n",
        "M10 = pd.read_csv(\"/content/Sales_October_2019.csv\")\n",
        "M11 = pd.read_csv(\"/content/Sales_November_2019.csv\")\n",
        "M12 = pd.read_csv(\"/content/Sales_December_2019.csv\")"
      ],
      "execution_count": 52,
      "outputs": []
    },
    {
      "cell_type": "markdown",
      "metadata": {
        "id": "ziY0eghO4lZP"
      },
      "source": [
        "Let's take a quick look of one the loaded data"
      ]
    },
    {
      "cell_type": "code",
      "metadata": {
        "colab": {
          "base_uri": "https://localhost:8080/",
          "height": 359
        },
        "id": "8c8uZZhU27Ro",
        "outputId": "60206185-0af8-4a8f-fb70-9ef48451e530"
      },
      "source": [
        "M1.head(10)"
      ],
      "execution_count": 53,
      "outputs": [
        {
          "output_type": "execute_result",
          "data": {
            "text/html": [
              "<div>\n",
              "<style scoped>\n",
              "    .dataframe tbody tr th:only-of-type {\n",
              "        vertical-align: middle;\n",
              "    }\n",
              "\n",
              "    .dataframe tbody tr th {\n",
              "        vertical-align: top;\n",
              "    }\n",
              "\n",
              "    .dataframe thead th {\n",
              "        text-align: right;\n",
              "    }\n",
              "</style>\n",
              "<table border=\"1\" class=\"dataframe\">\n",
              "  <thead>\n",
              "    <tr style=\"text-align: right;\">\n",
              "      <th></th>\n",
              "      <th>Order ID</th>\n",
              "      <th>Product</th>\n",
              "      <th>Quantity Ordered</th>\n",
              "      <th>Price Each</th>\n",
              "      <th>Order Date</th>\n",
              "      <th>Purchase Address</th>\n",
              "    </tr>\n",
              "  </thead>\n",
              "  <tbody>\n",
              "    <tr>\n",
              "      <th>0</th>\n",
              "      <td>141234</td>\n",
              "      <td>iPhone</td>\n",
              "      <td>1</td>\n",
              "      <td>700</td>\n",
              "      <td>01/22/19 21:25</td>\n",
              "      <td>944 Walnut St, Boston, MA 02215</td>\n",
              "    </tr>\n",
              "    <tr>\n",
              "      <th>1</th>\n",
              "      <td>141235</td>\n",
              "      <td>Lightning Charging Cable</td>\n",
              "      <td>1</td>\n",
              "      <td>14.95</td>\n",
              "      <td>01/28/19 14:15</td>\n",
              "      <td>185 Maple St, Portland, OR 97035</td>\n",
              "    </tr>\n",
              "    <tr>\n",
              "      <th>2</th>\n",
              "      <td>141236</td>\n",
              "      <td>Wired Headphones</td>\n",
              "      <td>2</td>\n",
              "      <td>11.99</td>\n",
              "      <td>01/17/19 13:33</td>\n",
              "      <td>538 Adams St, San Francisco, CA 94016</td>\n",
              "    </tr>\n",
              "    <tr>\n",
              "      <th>3</th>\n",
              "      <td>141237</td>\n",
              "      <td>27in FHD Monitor</td>\n",
              "      <td>1</td>\n",
              "      <td>149.99</td>\n",
              "      <td>01/05/19 20:33</td>\n",
              "      <td>738 10th St, Los Angeles, CA 90001</td>\n",
              "    </tr>\n",
              "    <tr>\n",
              "      <th>4</th>\n",
              "      <td>141238</td>\n",
              "      <td>Wired Headphones</td>\n",
              "      <td>1</td>\n",
              "      <td>11.99</td>\n",
              "      <td>01/25/19 11:59</td>\n",
              "      <td>387 10th St, Austin, TX 73301</td>\n",
              "    </tr>\n",
              "    <tr>\n",
              "      <th>5</th>\n",
              "      <td>141239</td>\n",
              "      <td>AAA Batteries (4-pack)</td>\n",
              "      <td>1</td>\n",
              "      <td>2.99</td>\n",
              "      <td>01/29/19 20:22</td>\n",
              "      <td>775 Willow St, San Francisco, CA 94016</td>\n",
              "    </tr>\n",
              "    <tr>\n",
              "      <th>6</th>\n",
              "      <td>141240</td>\n",
              "      <td>27in 4K Gaming Monitor</td>\n",
              "      <td>1</td>\n",
              "      <td>389.99</td>\n",
              "      <td>01/26/19 12:16</td>\n",
              "      <td>979 Park St, Los Angeles, CA 90001</td>\n",
              "    </tr>\n",
              "    <tr>\n",
              "      <th>7</th>\n",
              "      <td>141241</td>\n",
              "      <td>USB-C Charging Cable</td>\n",
              "      <td>1</td>\n",
              "      <td>11.95</td>\n",
              "      <td>01/05/19 12:04</td>\n",
              "      <td>181 6th St, San Francisco, CA 94016</td>\n",
              "    </tr>\n",
              "    <tr>\n",
              "      <th>8</th>\n",
              "      <td>141242</td>\n",
              "      <td>Bose SoundSport Headphones</td>\n",
              "      <td>1</td>\n",
              "      <td>99.99</td>\n",
              "      <td>01/01/19 10:30</td>\n",
              "      <td>867 Willow St, Los Angeles, CA 90001</td>\n",
              "    </tr>\n",
              "    <tr>\n",
              "      <th>9</th>\n",
              "      <td>141243</td>\n",
              "      <td>Apple Airpods Headphones</td>\n",
              "      <td>1</td>\n",
              "      <td>150</td>\n",
              "      <td>01/22/19 21:20</td>\n",
              "      <td>657 Johnson St, San Francisco, CA 94016</td>\n",
              "    </tr>\n",
              "  </tbody>\n",
              "</table>\n",
              "</div>"
            ],
            "text/plain": [
              "  Order ID  ...                         Purchase Address\n",
              "0   141234  ...          944 Walnut St, Boston, MA 02215\n",
              "1   141235  ...         185 Maple St, Portland, OR 97035\n",
              "2   141236  ...    538 Adams St, San Francisco, CA 94016\n",
              "3   141237  ...       738 10th St, Los Angeles, CA 90001\n",
              "4   141238  ...            387 10th St, Austin, TX 73301\n",
              "5   141239  ...   775 Willow St, San Francisco, CA 94016\n",
              "6   141240  ...       979 Park St, Los Angeles, CA 90001\n",
              "7   141241  ...      181 6th St, San Francisco, CA 94016\n",
              "8   141242  ...     867 Willow St, Los Angeles, CA 90001\n",
              "9   141243  ...  657 Johnson St, San Francisco, CA 94016\n",
              "\n",
              "[10 rows x 6 columns]"
            ]
          },
          "metadata": {
            "tags": []
          },
          "execution_count": 53
        }
      ]
    },
    {
      "cell_type": "markdown",
      "metadata": {
        "id": "RrrXIcpv4xJO"
      },
      "source": [
        "## Combine All Data\n",
        "\n",
        "Since we have numerous datasets, we need to combine each of this data into a single dataframe and label each by their respective month "
      ]
    },
    {
      "cell_type": "code",
      "metadata": {
        "id": "WTfpDwYn8YoA"
      },
      "source": [
        "#Create a new category named \"Month\" for each dataset per month\n",
        "M1[\"Month\"]=\"Jan\"\n",
        "M2[\"Month\"]=\"Feb\"\n",
        "M3[\"Month\"]=\"Mar\"\n",
        "M4[\"Month\"]=\"Apr\"\n",
        "M5[\"Month\"]=\"May\"\n",
        "M6[\"Month\"]=\"Jun\"\n",
        "M7[\"Month\"]=\"Jul\"\n",
        "M8[\"Month\"]=\"Aug\"\n",
        "M9[\"Month\"]=\"Sep\"\n",
        "M10[\"Month\"]=\"Oct\"\n",
        "M11[\"Month\"]=\"Nov\"\n",
        "M12[\"Month\"]=\"Dec\""
      ],
      "execution_count": 54,
      "outputs": []
    },
    {
      "cell_type": "code",
      "metadata": {
        "id": "fNEkxAEP9ttA"
      },
      "source": [
        "Month_list=[M1,M2,M3,M4,M5,M6,M7,M8,M9,M10,M11,M12]\n",
        "All_data = pd.concat(Month_list)"
      ],
      "execution_count": 55,
      "outputs": []
    },
    {
      "cell_type": "markdown",
      "metadata": {
        "id": "3lFPizf_-b5Y"
      },
      "source": [
        "Now Lets' take look of our combined data"
      ]
    },
    {
      "cell_type": "code",
      "metadata": {
        "colab": {
          "base_uri": "https://localhost:8080/",
          "height": 204
        },
        "id": "dQhgUK7g-lj0",
        "outputId": "b7aa1b7b-cb57-480b-d356-16a236f745e8"
      },
      "source": [
        "All_data.head(5)\n"
      ],
      "execution_count": 56,
      "outputs": [
        {
          "output_type": "execute_result",
          "data": {
            "text/html": [
              "<div>\n",
              "<style scoped>\n",
              "    .dataframe tbody tr th:only-of-type {\n",
              "        vertical-align: middle;\n",
              "    }\n",
              "\n",
              "    .dataframe tbody tr th {\n",
              "        vertical-align: top;\n",
              "    }\n",
              "\n",
              "    .dataframe thead th {\n",
              "        text-align: right;\n",
              "    }\n",
              "</style>\n",
              "<table border=\"1\" class=\"dataframe\">\n",
              "  <thead>\n",
              "    <tr style=\"text-align: right;\">\n",
              "      <th></th>\n",
              "      <th>Order ID</th>\n",
              "      <th>Product</th>\n",
              "      <th>Quantity Ordered</th>\n",
              "      <th>Price Each</th>\n",
              "      <th>Order Date</th>\n",
              "      <th>Purchase Address</th>\n",
              "      <th>Month</th>\n",
              "    </tr>\n",
              "  </thead>\n",
              "  <tbody>\n",
              "    <tr>\n",
              "      <th>0</th>\n",
              "      <td>141234</td>\n",
              "      <td>iPhone</td>\n",
              "      <td>1</td>\n",
              "      <td>700</td>\n",
              "      <td>01/22/19 21:25</td>\n",
              "      <td>944 Walnut St, Boston, MA 02215</td>\n",
              "      <td>Jan</td>\n",
              "    </tr>\n",
              "    <tr>\n",
              "      <th>1</th>\n",
              "      <td>141235</td>\n",
              "      <td>Lightning Charging Cable</td>\n",
              "      <td>1</td>\n",
              "      <td>14.95</td>\n",
              "      <td>01/28/19 14:15</td>\n",
              "      <td>185 Maple St, Portland, OR 97035</td>\n",
              "      <td>Jan</td>\n",
              "    </tr>\n",
              "    <tr>\n",
              "      <th>2</th>\n",
              "      <td>141236</td>\n",
              "      <td>Wired Headphones</td>\n",
              "      <td>2</td>\n",
              "      <td>11.99</td>\n",
              "      <td>01/17/19 13:33</td>\n",
              "      <td>538 Adams St, San Francisco, CA 94016</td>\n",
              "      <td>Jan</td>\n",
              "    </tr>\n",
              "    <tr>\n",
              "      <th>3</th>\n",
              "      <td>141237</td>\n",
              "      <td>27in FHD Monitor</td>\n",
              "      <td>1</td>\n",
              "      <td>149.99</td>\n",
              "      <td>01/05/19 20:33</td>\n",
              "      <td>738 10th St, Los Angeles, CA 90001</td>\n",
              "      <td>Jan</td>\n",
              "    </tr>\n",
              "    <tr>\n",
              "      <th>4</th>\n",
              "      <td>141238</td>\n",
              "      <td>Wired Headphones</td>\n",
              "      <td>1</td>\n",
              "      <td>11.99</td>\n",
              "      <td>01/25/19 11:59</td>\n",
              "      <td>387 10th St, Austin, TX 73301</td>\n",
              "      <td>Jan</td>\n",
              "    </tr>\n",
              "  </tbody>\n",
              "</table>\n",
              "</div>"
            ],
            "text/plain": [
              "  Order ID  ... Month\n",
              "0   141234  ...   Jan\n",
              "1   141235  ...   Jan\n",
              "2   141236  ...   Jan\n",
              "3   141237  ...   Jan\n",
              "4   141238  ...   Jan\n",
              "\n",
              "[5 rows x 7 columns]"
            ]
          },
          "metadata": {
            "tags": []
          },
          "execution_count": 56
        }
      ]
    },
    {
      "cell_type": "code",
      "metadata": {
        "colab": {
          "base_uri": "https://localhost:8080/",
          "height": 306
        },
        "id": "W_98AHTW-v6a",
        "outputId": "77c81ee5-5645-4aec-dbb8-02085f6578c5"
      },
      "source": [
        "All_data.tail(5)"
      ],
      "execution_count": 57,
      "outputs": [
        {
          "output_type": "execute_result",
          "data": {
            "text/html": [
              "<div>\n",
              "<style scoped>\n",
              "    .dataframe tbody tr th:only-of-type {\n",
              "        vertical-align: middle;\n",
              "    }\n",
              "\n",
              "    .dataframe tbody tr th {\n",
              "        vertical-align: top;\n",
              "    }\n",
              "\n",
              "    .dataframe thead th {\n",
              "        text-align: right;\n",
              "    }\n",
              "</style>\n",
              "<table border=\"1\" class=\"dataframe\">\n",
              "  <thead>\n",
              "    <tr style=\"text-align: right;\">\n",
              "      <th></th>\n",
              "      <th>Order ID</th>\n",
              "      <th>Product</th>\n",
              "      <th>Quantity Ordered</th>\n",
              "      <th>Price Each</th>\n",
              "      <th>Order Date</th>\n",
              "      <th>Purchase Address</th>\n",
              "      <th>Month</th>\n",
              "    </tr>\n",
              "  </thead>\n",
              "  <tbody>\n",
              "    <tr>\n",
              "      <th>25112</th>\n",
              "      <td>319666</td>\n",
              "      <td>Lightning Charging Cable</td>\n",
              "      <td>1</td>\n",
              "      <td>14.95</td>\n",
              "      <td>12/11/19 20:58</td>\n",
              "      <td>14 Madison St, San Francisco, CA 94016</td>\n",
              "      <td>Dec</td>\n",
              "    </tr>\n",
              "    <tr>\n",
              "      <th>25113</th>\n",
              "      <td>319667</td>\n",
              "      <td>AA Batteries (4-pack)</td>\n",
              "      <td>2</td>\n",
              "      <td>3.84</td>\n",
              "      <td>12/01/19 12:01</td>\n",
              "      <td>549 Willow St, Los Angeles, CA 90001</td>\n",
              "      <td>Dec</td>\n",
              "    </tr>\n",
              "    <tr>\n",
              "      <th>25114</th>\n",
              "      <td>319668</td>\n",
              "      <td>Vareebadd Phone</td>\n",
              "      <td>1</td>\n",
              "      <td>400</td>\n",
              "      <td>12/09/19 06:43</td>\n",
              "      <td>273 Wilson St, Seattle, WA 98101</td>\n",
              "      <td>Dec</td>\n",
              "    </tr>\n",
              "    <tr>\n",
              "      <th>25115</th>\n",
              "      <td>319669</td>\n",
              "      <td>Wired Headphones</td>\n",
              "      <td>1</td>\n",
              "      <td>11.99</td>\n",
              "      <td>12/03/19 10:39</td>\n",
              "      <td>778 River St, Dallas, TX 75001</td>\n",
              "      <td>Dec</td>\n",
              "    </tr>\n",
              "    <tr>\n",
              "      <th>25116</th>\n",
              "      <td>319670</td>\n",
              "      <td>Bose SoundSport Headphones</td>\n",
              "      <td>1</td>\n",
              "      <td>99.99</td>\n",
              "      <td>12/21/19 21:45</td>\n",
              "      <td>747 Chestnut St, Los Angeles, CA 90001</td>\n",
              "      <td>Dec</td>\n",
              "    </tr>\n",
              "  </tbody>\n",
              "</table>\n",
              "</div>"
            ],
            "text/plain": [
              "      Order ID  ... Month\n",
              "25112   319666  ...   Dec\n",
              "25113   319667  ...   Dec\n",
              "25114   319668  ...   Dec\n",
              "25115   319669  ...   Dec\n",
              "25116   319670  ...   Dec\n",
              "\n",
              "[5 rows x 7 columns]"
            ]
          },
          "metadata": {
            "tags": []
          },
          "execution_count": 57
        }
      ]
    },
    {
      "cell_type": "code",
      "metadata": {
        "colab": {
          "base_uri": "https://localhost:8080/"
        },
        "id": "guBNLZlD-yWp",
        "outputId": "3c7be67d-e735-44c3-a50f-75d58caabebc"
      },
      "source": [
        "All_data.info()"
      ],
      "execution_count": 58,
      "outputs": [
        {
          "output_type": "stream",
          "text": [
            "<class 'pandas.core.frame.DataFrame'>\n",
            "Int64Index: 186850 entries, 0 to 25116\n",
            "Data columns (total 7 columns):\n",
            " #   Column            Non-Null Count   Dtype \n",
            "---  ------            --------------   ----- \n",
            " 0   Order ID          186305 non-null  object\n",
            " 1   Product           186305 non-null  object\n",
            " 2   Quantity Ordered  186305 non-null  object\n",
            " 3   Price Each        186305 non-null  object\n",
            " 4   Order Date        186305 non-null  object\n",
            " 5   Purchase Address  186305 non-null  object\n",
            " 6   Month             186850 non-null  object\n",
            "dtypes: object(7)\n",
            "memory usage: 11.4+ MB\n"
          ],
          "name": "stdout"
        }
      ]
    },
    {
      "cell_type": "code",
      "metadata": {
        "colab": {
          "base_uri": "https://localhost:8080/"
        },
        "id": "ILhAV_fc_IHT",
        "outputId": "1481f395-75cf-4296-c6f0-472f66e23313"
      },
      "source": [
        "All_data.shape"
      ],
      "execution_count": 59,
      "outputs": [
        {
          "output_type": "execute_result",
          "data": {
            "text/plain": [
              "(186850, 7)"
            ]
          },
          "metadata": {
            "tags": []
          },
          "execution_count": 59
        }
      ]
    },
    {
      "cell_type": "markdown",
      "metadata": {
        "id": "Jsegj__Q_XmF"
      },
      "source": [
        "## **Data Cleansing**\n",
        "\n",
        "> Removing Null Values"
      ]
    },
    {
      "cell_type": "code",
      "metadata": {
        "colab": {
          "base_uri": "https://localhost:8080/"
        },
        "id": "Tf09Vpai_WqL",
        "outputId": "10912024-5321-4c28-9716-5e9f26074be5"
      },
      "source": [
        "All_data.isnull().sum() "
      ],
      "execution_count": 60,
      "outputs": [
        {
          "output_type": "execute_result",
          "data": {
            "text/plain": [
              "Order ID            545\n",
              "Product             545\n",
              "Quantity Ordered    545\n",
              "Price Each          545\n",
              "Order Date          545\n",
              "Purchase Address    545\n",
              "Month                 0\n",
              "dtype: int64"
            ]
          },
          "metadata": {
            "tags": []
          },
          "execution_count": 60
        }
      ]
    },
    {
      "cell_type": "markdown",
      "metadata": {
        "id": "sV_QK5OnAu1o"
      },
      "source": [
        "The output above shows that there are 545 null values in each column with the exception of month column"
      ]
    },
    {
      "cell_type": "code",
      "metadata": {
        "colab": {
          "base_uri": "https://localhost:8080/"
        },
        "id": "hod4ic0pA6T5",
        "outputId": "590e9928-75e2-4832-f86b-7324840e78ab"
      },
      "source": [
        "Null_percentage = (All_data.isnull().sum().sum())/len(All_data)*100\n",
        "Null_percentage"
      ],
      "execution_count": 61,
      "outputs": [
        {
          "output_type": "execute_result",
          "data": {
            "text/plain": [
              "1.75006689858175"
            ]
          },
          "metadata": {
            "tags": []
          },
          "execution_count": 61
        }
      ]
    },
    {
      "cell_type": "markdown",
      "metadata": {
        "id": "jbsFhO79BPEZ"
      },
      "source": [
        "We can observe that 1.75 percent null values are present in the data set, hence, we'll drop them"
      ]
    },
    {
      "cell_type": "code",
      "metadata": {
        "id": "V8r75y9JBhfp"
      },
      "source": [
        "All_data = All_data.dropna()"
      ],
      "execution_count": 62,
      "outputs": []
    },
    {
      "cell_type": "markdown",
      "metadata": {
        "id": "ukd3VZP0C2tH"
      },
      "source": [
        "Droping Duplicate Values"
      ]
    },
    {
      "cell_type": "code",
      "metadata": {
        "colab": {
          "base_uri": "https://localhost:8080/",
          "height": 419
        },
        "id": "ScoTHEf0DA5S",
        "outputId": "d679ff35-e63b-490d-a415-28f71a5f4501"
      },
      "source": [
        "All_data[All_data['Product'] == \"Product\"]"
      ],
      "execution_count": 63,
      "outputs": [
        {
          "output_type": "execute_result",
          "data": {
            "text/html": [
              "<div>\n",
              "<style scoped>\n",
              "    .dataframe tbody tr th:only-of-type {\n",
              "        vertical-align: middle;\n",
              "    }\n",
              "\n",
              "    .dataframe tbody tr th {\n",
              "        vertical-align: top;\n",
              "    }\n",
              "\n",
              "    .dataframe thead th {\n",
              "        text-align: right;\n",
              "    }\n",
              "</style>\n",
              "<table border=\"1\" class=\"dataframe\">\n",
              "  <thead>\n",
              "    <tr style=\"text-align: right;\">\n",
              "      <th></th>\n",
              "      <th>Order ID</th>\n",
              "      <th>Product</th>\n",
              "      <th>Quantity Ordered</th>\n",
              "      <th>Price Each</th>\n",
              "      <th>Order Date</th>\n",
              "      <th>Purchase Address</th>\n",
              "      <th>Month</th>\n",
              "    </tr>\n",
              "  </thead>\n",
              "  <tbody>\n",
              "    <tr>\n",
              "      <th>1073</th>\n",
              "      <td>Order ID</td>\n",
              "      <td>Product</td>\n",
              "      <td>Quantity Ordered</td>\n",
              "      <td>Price Each</td>\n",
              "      <td>Order Date</td>\n",
              "      <td>Purchase Address</td>\n",
              "      <td>Jan</td>\n",
              "    </tr>\n",
              "    <tr>\n",
              "      <th>1102</th>\n",
              "      <td>Order ID</td>\n",
              "      <td>Product</td>\n",
              "      <td>Quantity Ordered</td>\n",
              "      <td>Price Each</td>\n",
              "      <td>Order Date</td>\n",
              "      <td>Purchase Address</td>\n",
              "      <td>Jan</td>\n",
              "    </tr>\n",
              "    <tr>\n",
              "      <th>1194</th>\n",
              "      <td>Order ID</td>\n",
              "      <td>Product</td>\n",
              "      <td>Quantity Ordered</td>\n",
              "      <td>Price Each</td>\n",
              "      <td>Order Date</td>\n",
              "      <td>Purchase Address</td>\n",
              "      <td>Jan</td>\n",
              "    </tr>\n",
              "    <tr>\n",
              "      <th>1897</th>\n",
              "      <td>Order ID</td>\n",
              "      <td>Product</td>\n",
              "      <td>Quantity Ordered</td>\n",
              "      <td>Price Each</td>\n",
              "      <td>Order Date</td>\n",
              "      <td>Purchase Address</td>\n",
              "      <td>Jan</td>\n",
              "    </tr>\n",
              "    <tr>\n",
              "      <th>2463</th>\n",
              "      <td>Order ID</td>\n",
              "      <td>Product</td>\n",
              "      <td>Quantity Ordered</td>\n",
              "      <td>Price Each</td>\n",
              "      <td>Order Date</td>\n",
              "      <td>Purchase Address</td>\n",
              "      <td>Jan</td>\n",
              "    </tr>\n",
              "    <tr>\n",
              "      <th>...</th>\n",
              "      <td>...</td>\n",
              "      <td>...</td>\n",
              "      <td>...</td>\n",
              "      <td>...</td>\n",
              "      <td>...</td>\n",
              "      <td>...</td>\n",
              "      <td>...</td>\n",
              "    </tr>\n",
              "    <tr>\n",
              "      <th>23198</th>\n",
              "      <td>Order ID</td>\n",
              "      <td>Product</td>\n",
              "      <td>Quantity Ordered</td>\n",
              "      <td>Price Each</td>\n",
              "      <td>Order Date</td>\n",
              "      <td>Purchase Address</td>\n",
              "      <td>Dec</td>\n",
              "    </tr>\n",
              "    <tr>\n",
              "      <th>23337</th>\n",
              "      <td>Order ID</td>\n",
              "      <td>Product</td>\n",
              "      <td>Quantity Ordered</td>\n",
              "      <td>Price Each</td>\n",
              "      <td>Order Date</td>\n",
              "      <td>Purchase Address</td>\n",
              "      <td>Dec</td>\n",
              "    </tr>\n",
              "    <tr>\n",
              "      <th>23748</th>\n",
              "      <td>Order ID</td>\n",
              "      <td>Product</td>\n",
              "      <td>Quantity Ordered</td>\n",
              "      <td>Price Each</td>\n",
              "      <td>Order Date</td>\n",
              "      <td>Purchase Address</td>\n",
              "      <td>Dec</td>\n",
              "    </tr>\n",
              "    <tr>\n",
              "      <th>24192</th>\n",
              "      <td>Order ID</td>\n",
              "      <td>Product</td>\n",
              "      <td>Quantity Ordered</td>\n",
              "      <td>Price Each</td>\n",
              "      <td>Order Date</td>\n",
              "      <td>Purchase Address</td>\n",
              "      <td>Dec</td>\n",
              "    </tr>\n",
              "    <tr>\n",
              "      <th>24222</th>\n",
              "      <td>Order ID</td>\n",
              "      <td>Product</td>\n",
              "      <td>Quantity Ordered</td>\n",
              "      <td>Price Each</td>\n",
              "      <td>Order Date</td>\n",
              "      <td>Purchase Address</td>\n",
              "      <td>Dec</td>\n",
              "    </tr>\n",
              "  </tbody>\n",
              "</table>\n",
              "<p>355 rows × 7 columns</p>\n",
              "</div>"
            ],
            "text/plain": [
              "       Order ID  Product  Quantity Ordered  ...  Order Date  Purchase Address Month\n",
              "1073   Order ID  Product  Quantity Ordered  ...  Order Date  Purchase Address   Jan\n",
              "1102   Order ID  Product  Quantity Ordered  ...  Order Date  Purchase Address   Jan\n",
              "1194   Order ID  Product  Quantity Ordered  ...  Order Date  Purchase Address   Jan\n",
              "1897   Order ID  Product  Quantity Ordered  ...  Order Date  Purchase Address   Jan\n",
              "2463   Order ID  Product  Quantity Ordered  ...  Order Date  Purchase Address   Jan\n",
              "...         ...      ...               ...  ...         ...               ...   ...\n",
              "23198  Order ID  Product  Quantity Ordered  ...  Order Date  Purchase Address   Dec\n",
              "23337  Order ID  Product  Quantity Ordered  ...  Order Date  Purchase Address   Dec\n",
              "23748  Order ID  Product  Quantity Ordered  ...  Order Date  Purchase Address   Dec\n",
              "24192  Order ID  Product  Quantity Ordered  ...  Order Date  Purchase Address   Dec\n",
              "24222  Order ID  Product  Quantity Ordered  ...  Order Date  Purchase Address   Dec\n",
              "\n",
              "[355 rows x 7 columns]"
            ]
          },
          "metadata": {
            "tags": []
          },
          "execution_count": 63
        }
      ]
    },
    {
      "cell_type": "markdown",
      "metadata": {
        "id": "7-5109TkDq26"
      },
      "source": [
        "There are 355 columns in which the values in the rows are the same as the header. As a result, a new datframe will be created that excludes these variables."
      ]
    },
    {
      "cell_type": "code",
      "metadata": {
        "colab": {
          "base_uri": "https://localhost:8080/",
          "height": 266
        },
        "id": "zUzjBh4VD0-P",
        "outputId": "c38365da-3f7f-496f-c64a-6f994920bcf6"
      },
      "source": [
        "Formatted_data = All_data[All_data['Product'] != \"Product\"] \n",
        "Formatted_data.head(7) "
      ],
      "execution_count": 64,
      "outputs": [
        {
          "output_type": "execute_result",
          "data": {
            "text/html": [
              "<div>\n",
              "<style scoped>\n",
              "    .dataframe tbody tr th:only-of-type {\n",
              "        vertical-align: middle;\n",
              "    }\n",
              "\n",
              "    .dataframe tbody tr th {\n",
              "        vertical-align: top;\n",
              "    }\n",
              "\n",
              "    .dataframe thead th {\n",
              "        text-align: right;\n",
              "    }\n",
              "</style>\n",
              "<table border=\"1\" class=\"dataframe\">\n",
              "  <thead>\n",
              "    <tr style=\"text-align: right;\">\n",
              "      <th></th>\n",
              "      <th>Order ID</th>\n",
              "      <th>Product</th>\n",
              "      <th>Quantity Ordered</th>\n",
              "      <th>Price Each</th>\n",
              "      <th>Order Date</th>\n",
              "      <th>Purchase Address</th>\n",
              "      <th>Month</th>\n",
              "    </tr>\n",
              "  </thead>\n",
              "  <tbody>\n",
              "    <tr>\n",
              "      <th>0</th>\n",
              "      <td>141234</td>\n",
              "      <td>iPhone</td>\n",
              "      <td>1</td>\n",
              "      <td>700</td>\n",
              "      <td>01/22/19 21:25</td>\n",
              "      <td>944 Walnut St, Boston, MA 02215</td>\n",
              "      <td>Jan</td>\n",
              "    </tr>\n",
              "    <tr>\n",
              "      <th>1</th>\n",
              "      <td>141235</td>\n",
              "      <td>Lightning Charging Cable</td>\n",
              "      <td>1</td>\n",
              "      <td>14.95</td>\n",
              "      <td>01/28/19 14:15</td>\n",
              "      <td>185 Maple St, Portland, OR 97035</td>\n",
              "      <td>Jan</td>\n",
              "    </tr>\n",
              "    <tr>\n",
              "      <th>2</th>\n",
              "      <td>141236</td>\n",
              "      <td>Wired Headphones</td>\n",
              "      <td>2</td>\n",
              "      <td>11.99</td>\n",
              "      <td>01/17/19 13:33</td>\n",
              "      <td>538 Adams St, San Francisco, CA 94016</td>\n",
              "      <td>Jan</td>\n",
              "    </tr>\n",
              "    <tr>\n",
              "      <th>3</th>\n",
              "      <td>141237</td>\n",
              "      <td>27in FHD Monitor</td>\n",
              "      <td>1</td>\n",
              "      <td>149.99</td>\n",
              "      <td>01/05/19 20:33</td>\n",
              "      <td>738 10th St, Los Angeles, CA 90001</td>\n",
              "      <td>Jan</td>\n",
              "    </tr>\n",
              "    <tr>\n",
              "      <th>4</th>\n",
              "      <td>141238</td>\n",
              "      <td>Wired Headphones</td>\n",
              "      <td>1</td>\n",
              "      <td>11.99</td>\n",
              "      <td>01/25/19 11:59</td>\n",
              "      <td>387 10th St, Austin, TX 73301</td>\n",
              "      <td>Jan</td>\n",
              "    </tr>\n",
              "    <tr>\n",
              "      <th>5</th>\n",
              "      <td>141239</td>\n",
              "      <td>AAA Batteries (4-pack)</td>\n",
              "      <td>1</td>\n",
              "      <td>2.99</td>\n",
              "      <td>01/29/19 20:22</td>\n",
              "      <td>775 Willow St, San Francisco, CA 94016</td>\n",
              "      <td>Jan</td>\n",
              "    </tr>\n",
              "    <tr>\n",
              "      <th>6</th>\n",
              "      <td>141240</td>\n",
              "      <td>27in 4K Gaming Monitor</td>\n",
              "      <td>1</td>\n",
              "      <td>389.99</td>\n",
              "      <td>01/26/19 12:16</td>\n",
              "      <td>979 Park St, Los Angeles, CA 90001</td>\n",
              "      <td>Jan</td>\n",
              "    </tr>\n",
              "  </tbody>\n",
              "</table>\n",
              "</div>"
            ],
            "text/plain": [
              "  Order ID  ... Month\n",
              "0   141234  ...   Jan\n",
              "1   141235  ...   Jan\n",
              "2   141236  ...   Jan\n",
              "3   141237  ...   Jan\n",
              "4   141238  ...   Jan\n",
              "5   141239  ...   Jan\n",
              "6   141240  ...   Jan\n",
              "\n",
              "[7 rows x 7 columns]"
            ]
          },
          "metadata": {
            "tags": []
          },
          "execution_count": 64
        }
      ]
    },
    {
      "cell_type": "code",
      "metadata": {
        "colab": {
          "base_uri": "https://localhost:8080/"
        },
        "id": "mxVmvxK5Q-t8",
        "outputId": "14fb4841-6b02-454d-fbde-5ccf025486f7"
      },
      "source": [
        "Formatted_data.shape"
      ],
      "execution_count": 65,
      "outputs": [
        {
          "output_type": "execute_result",
          "data": {
            "text/plain": [
              "(185950, 7)"
            ]
          },
          "metadata": {
            "tags": []
          },
          "execution_count": 65
        }
      ]
    },
    {
      "cell_type": "code",
      "metadata": {
        "colab": {
          "base_uri": "https://localhost:8080/"
        },
        "id": "hX30ymQUScMW",
        "outputId": "e021b845-8a10-40c4-8fa9-620ef484a96b"
      },
      "source": [
        "Formatted_data.info()"
      ],
      "execution_count": 66,
      "outputs": [
        {
          "output_type": "stream",
          "text": [
            "<class 'pandas.core.frame.DataFrame'>\n",
            "Int64Index: 185950 entries, 0 to 25116\n",
            "Data columns (total 7 columns):\n",
            " #   Column            Non-Null Count   Dtype \n",
            "---  ------            --------------   ----- \n",
            " 0   Order ID          185950 non-null  object\n",
            " 1   Product           185950 non-null  object\n",
            " 2   Quantity Ordered  185950 non-null  object\n",
            " 3   Price Each        185950 non-null  object\n",
            " 4   Order Date        185950 non-null  object\n",
            " 5   Purchase Address  185950 non-null  object\n",
            " 6   Month             185950 non-null  object\n",
            "dtypes: object(7)\n",
            "memory usage: 11.3+ MB\n"
          ],
          "name": "stdout"
        }
      ]
    },
    {
      "cell_type": "markdown",
      "metadata": {
        "id": "fo30iQonS5N-"
      },
      "source": [
        "Convert each data columns to appropriate data types"
      ]
    },
    {
      "cell_type": "code",
      "metadata": {
        "colab": {
          "base_uri": "https://localhost:8080/"
        },
        "id": "NiGsPdKXSjco",
        "outputId": "5e42c128-f9c7-4317-d2ac-a0a1a091df79"
      },
      "source": [
        "Formatted_data[\"Quantity Ordered\"] = Formatted_data[\"Quantity Ordered\"].astype(\"float\")\n",
        "Formatted_data[\"Price Each\"] = Formatted_data[\"Price Each\"].astype(\"float\")"
      ],
      "execution_count": 67,
      "outputs": [
        {
          "output_type": "stream",
          "text": [
            "/usr/local/lib/python3.7/dist-packages/ipykernel_launcher.py:1: SettingWithCopyWarning: \n",
            "A value is trying to be set on a copy of a slice from a DataFrame.\n",
            "Try using .loc[row_indexer,col_indexer] = value instead\n",
            "\n",
            "See the caveats in the documentation: https://pandas.pydata.org/pandas-docs/stable/user_guide/indexing.html#returning-a-view-versus-a-copy\n",
            "  \"\"\"Entry point for launching an IPython kernel.\n",
            "/usr/local/lib/python3.7/dist-packages/ipykernel_launcher.py:2: SettingWithCopyWarning: \n",
            "A value is trying to be set on a copy of a slice from a DataFrame.\n",
            "Try using .loc[row_indexer,col_indexer] = value instead\n",
            "\n",
            "See the caveats in the documentation: https://pandas.pydata.org/pandas-docs/stable/user_guide/indexing.html#returning-a-view-versus-a-copy\n",
            "  \n"
          ],
          "name": "stderr"
        }
      ]
    },
    {
      "cell_type": "code",
      "metadata": {
        "colab": {
          "base_uri": "https://localhost:8080/"
        },
        "id": "s6VA8uXTSy2y",
        "outputId": "ad5a550c-e75a-4f42-ddd0-7d92299e1456"
      },
      "source": [
        "Formatted_data.info()"
      ],
      "execution_count": 68,
      "outputs": [
        {
          "output_type": "stream",
          "text": [
            "<class 'pandas.core.frame.DataFrame'>\n",
            "Int64Index: 185950 entries, 0 to 25116\n",
            "Data columns (total 7 columns):\n",
            " #   Column            Non-Null Count   Dtype  \n",
            "---  ------            --------------   -----  \n",
            " 0   Order ID          185950 non-null  object \n",
            " 1   Product           185950 non-null  object \n",
            " 2   Quantity Ordered  185950 non-null  float64\n",
            " 3   Price Each        185950 non-null  float64\n",
            " 4   Order Date        185950 non-null  object \n",
            " 5   Purchase Address  185950 non-null  object \n",
            " 6   Month             185950 non-null  object \n",
            "dtypes: float64(2), object(5)\n",
            "memory usage: 11.3+ MB\n"
          ],
          "name": "stdout"
        }
      ]
    },
    {
      "cell_type": "markdown",
      "metadata": {
        "id": "k3EPA_2uRXS9"
      },
      "source": [
        "To answer our first business question\n",
        "> ### What was the best month for sales? \n",
        "\n",
        ">### How much was earned that month?\n",
        "\n",
        "First, let's get the value of all sales by multiplying Each Price with Quantity Ordered"
      ]
    },
    {
      "cell_type": "code",
      "metadata": {
        "colab": {
          "base_uri": "https://localhost:8080/"
        },
        "id": "MGHu3yvaRI9Z",
        "outputId": "b71c505b-4929-450c-b4ba-dcfa75d2ec3c"
      },
      "source": [
        "Formatted_data[\"sales\"]=Formatted_data[\"Quantity Ordered\"]*Formatted_data[\"Price Each\"]"
      ],
      "execution_count": 69,
      "outputs": [
        {
          "output_type": "stream",
          "text": [
            "/usr/local/lib/python3.7/dist-packages/ipykernel_launcher.py:1: SettingWithCopyWarning: \n",
            "A value is trying to be set on a copy of a slice from a DataFrame.\n",
            "Try using .loc[row_indexer,col_indexer] = value instead\n",
            "\n",
            "See the caveats in the documentation: https://pandas.pydata.org/pandas-docs/stable/user_guide/indexing.html#returning-a-view-versus-a-copy\n",
            "  \"\"\"Entry point for launching an IPython kernel.\n"
          ],
          "name": "stderr"
        }
      ]
    },
    {
      "cell_type": "code",
      "metadata": {
        "colab": {
          "base_uri": "https://localhost:8080/",
          "height": 306
        },
        "id": "tTH1q0YapwpE",
        "outputId": "01abac2d-3fb5-448f-c09a-224de7239be5"
      },
      "source": [
        "Formatted_data.head()"
      ],
      "execution_count": 70,
      "outputs": [
        {
          "output_type": "execute_result",
          "data": {
            "text/html": [
              "<div>\n",
              "<style scoped>\n",
              "    .dataframe tbody tr th:only-of-type {\n",
              "        vertical-align: middle;\n",
              "    }\n",
              "\n",
              "    .dataframe tbody tr th {\n",
              "        vertical-align: top;\n",
              "    }\n",
              "\n",
              "    .dataframe thead th {\n",
              "        text-align: right;\n",
              "    }\n",
              "</style>\n",
              "<table border=\"1\" class=\"dataframe\">\n",
              "  <thead>\n",
              "    <tr style=\"text-align: right;\">\n",
              "      <th></th>\n",
              "      <th>Order ID</th>\n",
              "      <th>Product</th>\n",
              "      <th>Quantity Ordered</th>\n",
              "      <th>Price Each</th>\n",
              "      <th>Order Date</th>\n",
              "      <th>Purchase Address</th>\n",
              "      <th>Month</th>\n",
              "      <th>sales</th>\n",
              "    </tr>\n",
              "  </thead>\n",
              "  <tbody>\n",
              "    <tr>\n",
              "      <th>0</th>\n",
              "      <td>141234</td>\n",
              "      <td>iPhone</td>\n",
              "      <td>1.0</td>\n",
              "      <td>700.00</td>\n",
              "      <td>01/22/19 21:25</td>\n",
              "      <td>944 Walnut St, Boston, MA 02215</td>\n",
              "      <td>Jan</td>\n",
              "      <td>700.00</td>\n",
              "    </tr>\n",
              "    <tr>\n",
              "      <th>1</th>\n",
              "      <td>141235</td>\n",
              "      <td>Lightning Charging Cable</td>\n",
              "      <td>1.0</td>\n",
              "      <td>14.95</td>\n",
              "      <td>01/28/19 14:15</td>\n",
              "      <td>185 Maple St, Portland, OR 97035</td>\n",
              "      <td>Jan</td>\n",
              "      <td>14.95</td>\n",
              "    </tr>\n",
              "    <tr>\n",
              "      <th>2</th>\n",
              "      <td>141236</td>\n",
              "      <td>Wired Headphones</td>\n",
              "      <td>2.0</td>\n",
              "      <td>11.99</td>\n",
              "      <td>01/17/19 13:33</td>\n",
              "      <td>538 Adams St, San Francisco, CA 94016</td>\n",
              "      <td>Jan</td>\n",
              "      <td>23.98</td>\n",
              "    </tr>\n",
              "    <tr>\n",
              "      <th>3</th>\n",
              "      <td>141237</td>\n",
              "      <td>27in FHD Monitor</td>\n",
              "      <td>1.0</td>\n",
              "      <td>149.99</td>\n",
              "      <td>01/05/19 20:33</td>\n",
              "      <td>738 10th St, Los Angeles, CA 90001</td>\n",
              "      <td>Jan</td>\n",
              "      <td>149.99</td>\n",
              "    </tr>\n",
              "    <tr>\n",
              "      <th>4</th>\n",
              "      <td>141238</td>\n",
              "      <td>Wired Headphones</td>\n",
              "      <td>1.0</td>\n",
              "      <td>11.99</td>\n",
              "      <td>01/25/19 11:59</td>\n",
              "      <td>387 10th St, Austin, TX 73301</td>\n",
              "      <td>Jan</td>\n",
              "      <td>11.99</td>\n",
              "    </tr>\n",
              "  </tbody>\n",
              "</table>\n",
              "</div>"
            ],
            "text/plain": [
              "  Order ID                   Product  ...  Month   sales\n",
              "0   141234                    iPhone  ...    Jan  700.00\n",
              "1   141235  Lightning Charging Cable  ...    Jan   14.95\n",
              "2   141236          Wired Headphones  ...    Jan   23.98\n",
              "3   141237          27in FHD Monitor  ...    Jan  149.99\n",
              "4   141238          Wired Headphones  ...    Jan   11.99\n",
              "\n",
              "[5 rows x 8 columns]"
            ]
          },
          "metadata": {
            "tags": []
          },
          "execution_count": 70
        }
      ]
    },
    {
      "cell_type": "code",
      "metadata": {
        "colab": {
          "base_uri": "https://localhost:8080/"
        },
        "id": "vNqOoleep2C2",
        "outputId": "b372a7ac-7dae-4d71-8c31-98da01c3f83f"
      },
      "source": [
        "Formatted_data[\"Month\"].nunique()"
      ],
      "execution_count": 71,
      "outputs": [
        {
          "output_type": "execute_result",
          "data": {
            "text/plain": [
              "12"
            ]
          },
          "metadata": {
            "tags": []
          },
          "execution_count": 71
        }
      ]
    },
    {
      "cell_type": "code",
      "metadata": {
        "id": "hjPUZCT68Yuq"
      },
      "source": [
        "Sales_Sum = Formatted_data.groupby(['Month'])['sales'].sum().sort_values(ascending=False)\n",
        "Sales_Sum=Sales_Sum.to_frame()"
      ],
      "execution_count": 72,
      "outputs": []
    },
    {
      "cell_type": "code",
      "metadata": {
        "colab": {
          "base_uri": "https://localhost:8080/",
          "height": 452
        },
        "id": "q-ByO0iv8sBC",
        "outputId": "49758867-e4eb-4fbd-d6dd-6abeb6fcd37b"
      },
      "source": [
        "Sales_Sum.head(13)"
      ],
      "execution_count": 73,
      "outputs": [
        {
          "output_type": "execute_result",
          "data": {
            "text/html": [
              "<div>\n",
              "<style scoped>\n",
              "    .dataframe tbody tr th:only-of-type {\n",
              "        vertical-align: middle;\n",
              "    }\n",
              "\n",
              "    .dataframe tbody tr th {\n",
              "        vertical-align: top;\n",
              "    }\n",
              "\n",
              "    .dataframe thead th {\n",
              "        text-align: right;\n",
              "    }\n",
              "</style>\n",
              "<table border=\"1\" class=\"dataframe\">\n",
              "  <thead>\n",
              "    <tr style=\"text-align: right;\">\n",
              "      <th></th>\n",
              "      <th>sales</th>\n",
              "    </tr>\n",
              "    <tr>\n",
              "      <th>Month</th>\n",
              "      <th></th>\n",
              "    </tr>\n",
              "  </thead>\n",
              "  <tbody>\n",
              "    <tr>\n",
              "      <th>Dec</th>\n",
              "      <td>4.619297e+06</td>\n",
              "    </tr>\n",
              "    <tr>\n",
              "      <th>Oct</th>\n",
              "      <td>3.736884e+06</td>\n",
              "    </tr>\n",
              "    <tr>\n",
              "      <th>Apr</th>\n",
              "      <td>3.396059e+06</td>\n",
              "    </tr>\n",
              "    <tr>\n",
              "      <th>Nov</th>\n",
              "      <td>3.198909e+06</td>\n",
              "    </tr>\n",
              "    <tr>\n",
              "      <th>May</th>\n",
              "      <td>3.144585e+06</td>\n",
              "    </tr>\n",
              "    <tr>\n",
              "      <th>Mar</th>\n",
              "      <td>2.809063e+06</td>\n",
              "    </tr>\n",
              "    <tr>\n",
              "      <th>Jul</th>\n",
              "      <td>2.646900e+06</td>\n",
              "    </tr>\n",
              "    <tr>\n",
              "      <th>Jun</th>\n",
              "      <td>2.578293e+06</td>\n",
              "    </tr>\n",
              "    <tr>\n",
              "      <th>Aug</th>\n",
              "      <td>2.244412e+06</td>\n",
              "    </tr>\n",
              "    <tr>\n",
              "      <th>Feb</th>\n",
              "      <td>2.203481e+06</td>\n",
              "    </tr>\n",
              "    <tr>\n",
              "      <th>Sep</th>\n",
              "      <td>2.098817e+06</td>\n",
              "    </tr>\n",
              "    <tr>\n",
              "      <th>Jan</th>\n",
              "      <td>1.815335e+06</td>\n",
              "    </tr>\n",
              "  </tbody>\n",
              "</table>\n",
              "</div>"
            ],
            "text/plain": [
              "              sales\n",
              "Month              \n",
              "Dec    4.619297e+06\n",
              "Oct    3.736884e+06\n",
              "Apr    3.396059e+06\n",
              "Nov    3.198909e+06\n",
              "May    3.144585e+06\n",
              "Mar    2.809063e+06\n",
              "Jul    2.646900e+06\n",
              "Jun    2.578293e+06\n",
              "Aug    2.244412e+06\n",
              "Feb    2.203481e+06\n",
              "Sep    2.098817e+06\n",
              "Jan    1.815335e+06"
            ]
          },
          "metadata": {
            "tags": []
          },
          "execution_count": 73
        }
      ]
    },
    {
      "cell_type": "code",
      "metadata": {
        "colab": {
          "base_uri": "https://localhost:8080/",
          "height": 452
        },
        "id": "ClrIrnFl-2yg",
        "outputId": "812d524d-d5b8-4f5f-e31a-099956b3ff77"
      },
      "source": [
        "month=[\"dec\",\"oct\",\"apr\",\"nov\",\"may\",\"mar\",\"july\",\"june\",\"aug\",'feb',\"sep\",\"jan\"] \n",
        "Sales_Sum[\"month\"]=month\n",
        "Sales_Sum.head(13)"
      ],
      "execution_count": 74,
      "outputs": [
        {
          "output_type": "execute_result",
          "data": {
            "text/html": [
              "<div>\n",
              "<style scoped>\n",
              "    .dataframe tbody tr th:only-of-type {\n",
              "        vertical-align: middle;\n",
              "    }\n",
              "\n",
              "    .dataframe tbody tr th {\n",
              "        vertical-align: top;\n",
              "    }\n",
              "\n",
              "    .dataframe thead th {\n",
              "        text-align: right;\n",
              "    }\n",
              "</style>\n",
              "<table border=\"1\" class=\"dataframe\">\n",
              "  <thead>\n",
              "    <tr style=\"text-align: right;\">\n",
              "      <th></th>\n",
              "      <th>sales</th>\n",
              "      <th>month</th>\n",
              "    </tr>\n",
              "    <tr>\n",
              "      <th>Month</th>\n",
              "      <th></th>\n",
              "      <th></th>\n",
              "    </tr>\n",
              "  </thead>\n",
              "  <tbody>\n",
              "    <tr>\n",
              "      <th>Dec</th>\n",
              "      <td>4.619297e+06</td>\n",
              "      <td>dec</td>\n",
              "    </tr>\n",
              "    <tr>\n",
              "      <th>Oct</th>\n",
              "      <td>3.736884e+06</td>\n",
              "      <td>oct</td>\n",
              "    </tr>\n",
              "    <tr>\n",
              "      <th>Apr</th>\n",
              "      <td>3.396059e+06</td>\n",
              "      <td>apr</td>\n",
              "    </tr>\n",
              "    <tr>\n",
              "      <th>Nov</th>\n",
              "      <td>3.198909e+06</td>\n",
              "      <td>nov</td>\n",
              "    </tr>\n",
              "    <tr>\n",
              "      <th>May</th>\n",
              "      <td>3.144585e+06</td>\n",
              "      <td>may</td>\n",
              "    </tr>\n",
              "    <tr>\n",
              "      <th>Mar</th>\n",
              "      <td>2.809063e+06</td>\n",
              "      <td>mar</td>\n",
              "    </tr>\n",
              "    <tr>\n",
              "      <th>Jul</th>\n",
              "      <td>2.646900e+06</td>\n",
              "      <td>july</td>\n",
              "    </tr>\n",
              "    <tr>\n",
              "      <th>Jun</th>\n",
              "      <td>2.578293e+06</td>\n",
              "      <td>june</td>\n",
              "    </tr>\n",
              "    <tr>\n",
              "      <th>Aug</th>\n",
              "      <td>2.244412e+06</td>\n",
              "      <td>aug</td>\n",
              "    </tr>\n",
              "    <tr>\n",
              "      <th>Feb</th>\n",
              "      <td>2.203481e+06</td>\n",
              "      <td>feb</td>\n",
              "    </tr>\n",
              "    <tr>\n",
              "      <th>Sep</th>\n",
              "      <td>2.098817e+06</td>\n",
              "      <td>sep</td>\n",
              "    </tr>\n",
              "    <tr>\n",
              "      <th>Jan</th>\n",
              "      <td>1.815335e+06</td>\n",
              "      <td>jan</td>\n",
              "    </tr>\n",
              "  </tbody>\n",
              "</table>\n",
              "</div>"
            ],
            "text/plain": [
              "              sales month\n",
              "Month                    \n",
              "Dec    4.619297e+06   dec\n",
              "Oct    3.736884e+06   oct\n",
              "Apr    3.396059e+06   apr\n",
              "Nov    3.198909e+06   nov\n",
              "May    3.144585e+06   may\n",
              "Mar    2.809063e+06   mar\n",
              "Jul    2.646900e+06  july\n",
              "Jun    2.578293e+06  june\n",
              "Aug    2.244412e+06   aug\n",
              "Feb    2.203481e+06   feb\n",
              "Sep    2.098817e+06   sep\n",
              "Jan    1.815335e+06   jan"
            ]
          },
          "metadata": {
            "tags": []
          },
          "execution_count": 74
        }
      ]
    },
    {
      "cell_type": "code",
      "metadata": {
        "colab": {
          "base_uri": "https://localhost:8080/",
          "height": 527
        },
        "id": "9UjnD6g1_HvL",
        "outputId": "98ef2034-8ad8-48ff-b5e2-afa2792d4571"
      },
      "source": [
        "from matplotlib import pyplot as plt\n",
        "a4_dims = (11.7, 8.27)\n",
        "fig, ax = plt.subplots(figsize=a4_dims)\n",
        "plt.ticklabel_format(style='plain')\n",
        "sns.barplot(x = \"sales\",\n",
        "            y = \"month\",\n",
        "            data = Sales_Sum)\n",
        "plt.title(\"Month Sales\")\n",
        "plt.show()"
      ],
      "execution_count": 75,
      "outputs": [
        {
          "output_type": "display_data",
          "data": {
            "image/png": "[encoded data removed]",
            "text/plain": [
              "<Figure size 842.4x595.44 with 1 Axes>"
            ]
          },
          "metadata": {
            "tags": [],
            "needs_background": "light"
          }
        }
      ]
    },
    {
      "cell_type": "markdown",
      "metadata": {
        "id": "zVVveolTFeGB"
      },
      "source": [
        "From the visualization plot, it can be confirmed that the best Month for sales was **DECEMBER** with a total sales in December is **$4619297**"
      ]
    },
    {
      "cell_type": "markdown",
      "metadata": {
        "id": "lmosZR4ZMD-k"
      },
      "source": [
        "For our second business question, Which city had the highest number of sales?"
      ]
    },
    {
      "cell_type": "code",
      "metadata": {
        "colab": {
          "base_uri": "https://localhost:8080/",
          "height": 428
        },
        "id": "kfVZR8y-LlI9",
        "outputId": "e324250b-d5e8-4abf-b67f-3957caf700f0"
      },
      "source": [
        "Improvised_data = Formatted_data\n",
        "All_city = []\n",
        "for i in Improvised_data['Purchase Address']:\n",
        "    All_city.append(i.split(\",\")[1])\n",
        "Improvised_data['City'] = All_city\n",
        "Improvised_data.head()"
      ],
      "execution_count": 76,
      "outputs": [
        {
          "output_type": "stream",
          "text": [
            "/usr/local/lib/python3.7/dist-packages/ipykernel_launcher.py:5: SettingWithCopyWarning: \n",
            "A value is trying to be set on a copy of a slice from a DataFrame.\n",
            "Try using .loc[row_indexer,col_indexer] = value instead\n",
            "\n",
            "See the caveats in the documentation: https://pandas.pydata.org/pandas-docs/stable/user_guide/indexing.html#returning-a-view-versus-a-copy\n",
            "  \"\"\"\n"
          ],
          "name": "stderr"
        },
        {
          "output_type": "execute_result",
          "data": {
            "text/html": [
              "<div>\n",
              "<style scoped>\n",
              "    .dataframe tbody tr th:only-of-type {\n",
              "        vertical-align: middle;\n",
              "    }\n",
              "\n",
              "    .dataframe tbody tr th {\n",
              "        vertical-align: top;\n",
              "    }\n",
              "\n",
              "    .dataframe thead th {\n",
              "        text-align: right;\n",
              "    }\n",
              "</style>\n",
              "<table border=\"1\" class=\"dataframe\">\n",
              "  <thead>\n",
              "    <tr style=\"text-align: right;\">\n",
              "      <th></th>\n",
              "      <th>Order ID</th>\n",
              "      <th>Product</th>\n",
              "      <th>Quantity Ordered</th>\n",
              "      <th>Price Each</th>\n",
              "      <th>Order Date</th>\n",
              "      <th>Purchase Address</th>\n",
              "      <th>Month</th>\n",
              "      <th>sales</th>\n",
              "      <th>City</th>\n",
              "    </tr>\n",
              "  </thead>\n",
              "  <tbody>\n",
              "    <tr>\n",
              "      <th>0</th>\n",
              "      <td>141234</td>\n",
              "      <td>iPhone</td>\n",
              "      <td>1.0</td>\n",
              "      <td>700.00</td>\n",
              "      <td>01/22/19 21:25</td>\n",
              "      <td>944 Walnut St, Boston, MA 02215</td>\n",
              "      <td>Jan</td>\n",
              "      <td>700.00</td>\n",
              "      <td>Boston</td>\n",
              "    </tr>\n",
              "    <tr>\n",
              "      <th>1</th>\n",
              "      <td>141235</td>\n",
              "      <td>Lightning Charging Cable</td>\n",
              "      <td>1.0</td>\n",
              "      <td>14.95</td>\n",
              "      <td>01/28/19 14:15</td>\n",
              "      <td>185 Maple St, Portland, OR 97035</td>\n",
              "      <td>Jan</td>\n",
              "      <td>14.95</td>\n",
              "      <td>Portland</td>\n",
              "    </tr>\n",
              "    <tr>\n",
              "      <th>2</th>\n",
              "      <td>141236</td>\n",
              "      <td>Wired Headphones</td>\n",
              "      <td>2.0</td>\n",
              "      <td>11.99</td>\n",
              "      <td>01/17/19 13:33</td>\n",
              "      <td>538 Adams St, San Francisco, CA 94016</td>\n",
              "      <td>Jan</td>\n",
              "      <td>23.98</td>\n",
              "      <td>San Francisco</td>\n",
              "    </tr>\n",
              "    <tr>\n",
              "      <th>3</th>\n",
              "      <td>141237</td>\n",
              "      <td>27in FHD Monitor</td>\n",
              "      <td>1.0</td>\n",
              "      <td>149.99</td>\n",
              "      <td>01/05/19 20:33</td>\n",
              "      <td>738 10th St, Los Angeles, CA 90001</td>\n",
              "      <td>Jan</td>\n",
              "      <td>149.99</td>\n",
              "      <td>Los Angeles</td>\n",
              "    </tr>\n",
              "    <tr>\n",
              "      <th>4</th>\n",
              "      <td>141238</td>\n",
              "      <td>Wired Headphones</td>\n",
              "      <td>1.0</td>\n",
              "      <td>11.99</td>\n",
              "      <td>01/25/19 11:59</td>\n",
              "      <td>387 10th St, Austin, TX 73301</td>\n",
              "      <td>Jan</td>\n",
              "      <td>11.99</td>\n",
              "      <td>Austin</td>\n",
              "    </tr>\n",
              "  </tbody>\n",
              "</table>\n",
              "</div>"
            ],
            "text/plain": [
              "  Order ID                   Product  ...   sales            City\n",
              "0   141234                    iPhone  ...  700.00          Boston\n",
              "1   141235  Lightning Charging Cable  ...   14.95        Portland\n",
              "2   141236          Wired Headphones  ...   23.98   San Francisco\n",
              "3   141237          27in FHD Monitor  ...  149.99     Los Angeles\n",
              "4   141238          Wired Headphones  ...   11.99          Austin\n",
              "\n",
              "[5 rows x 9 columns]"
            ]
          },
          "metadata": {
            "tags": []
          },
          "execution_count": 76
        }
      ]
    },
    {
      "cell_type": "code",
      "metadata": {
        "id": "C71GHQW8fImY"
      },
      "source": [
        "All_city = Improvised_data.groupby([\"City\"])['sales'].sum().sort_values(ascending=False)\n",
        "All_city = All_city.to_frame()"
      ],
      "execution_count": 77,
      "outputs": []
    },
    {
      "cell_type": "code",
      "metadata": {
        "colab": {
          "base_uri": "https://localhost:8080/"
        },
        "id": "xSUrUjDcfZmp",
        "outputId": "5bd57931-5563-4964-afe3-6dd80e4adf82"
      },
      "source": [
        "Improvised_data[\"City\"].nunique()"
      ],
      "execution_count": 78,
      "outputs": [
        {
          "output_type": "execute_result",
          "data": {
            "text/plain": [
              "9"
            ]
          },
          "metadata": {
            "tags": []
          },
          "execution_count": 78
        }
      ]
    },
    {
      "cell_type": "code",
      "metadata": {
        "id": "qJ9mrXE9f8S_"
      },
      "source": [
        "city = [\"San Francisco\",\"Los Angeles\",\"New York City\",\"Boston\",\"Atlanta\",\"Dallas\",\"Seattle\",\"Portland\",\"Austin\"]"
      ],
      "execution_count": 79,
      "outputs": []
    },
    {
      "cell_type": "code",
      "metadata": {
        "id": "kIOAS0O7gFfS"
      },
      "source": [
        "All_city[\"city\"] = city"
      ],
      "execution_count": 80,
      "outputs": []
    },
    {
      "cell_type": "code",
      "metadata": {
        "colab": {
          "base_uri": "https://localhost:8080/",
          "height": 359
        },
        "id": "aD3FPCYFgMSC",
        "outputId": "06dc8578-2ad9-46b9-af39-1dd151aaf67c"
      },
      "source": [
        "All_city"
      ],
      "execution_count": 81,
      "outputs": [
        {
          "output_type": "execute_result",
          "data": {
            "text/html": [
              "<div>\n",
              "<style scoped>\n",
              "    .dataframe tbody tr th:only-of-type {\n",
              "        vertical-align: middle;\n",
              "    }\n",
              "\n",
              "    .dataframe tbody tr th {\n",
              "        vertical-align: top;\n",
              "    }\n",
              "\n",
              "    .dataframe thead th {\n",
              "        text-align: right;\n",
              "    }\n",
              "</style>\n",
              "<table border=\"1\" class=\"dataframe\">\n",
              "  <thead>\n",
              "    <tr style=\"text-align: right;\">\n",
              "      <th></th>\n",
              "      <th>sales</th>\n",
              "      <th>city</th>\n",
              "    </tr>\n",
              "    <tr>\n",
              "      <th>City</th>\n",
              "      <th></th>\n",
              "      <th></th>\n",
              "    </tr>\n",
              "  </thead>\n",
              "  <tbody>\n",
              "    <tr>\n",
              "      <th>San Francisco</th>\n",
              "      <td>8.262204e+06</td>\n",
              "      <td>San Francisco</td>\n",
              "    </tr>\n",
              "    <tr>\n",
              "      <th>Los Angeles</th>\n",
              "      <td>5.452571e+06</td>\n",
              "      <td>Los Angeles</td>\n",
              "    </tr>\n",
              "    <tr>\n",
              "      <th>New York City</th>\n",
              "      <td>4.664317e+06</td>\n",
              "      <td>New York City</td>\n",
              "    </tr>\n",
              "    <tr>\n",
              "      <th>Boston</th>\n",
              "      <td>3.661642e+06</td>\n",
              "      <td>Boston</td>\n",
              "    </tr>\n",
              "    <tr>\n",
              "      <th>Atlanta</th>\n",
              "      <td>2.795499e+06</td>\n",
              "      <td>Atlanta</td>\n",
              "    </tr>\n",
              "    <tr>\n",
              "      <th>Dallas</th>\n",
              "      <td>2.767975e+06</td>\n",
              "      <td>Dallas</td>\n",
              "    </tr>\n",
              "    <tr>\n",
              "      <th>Seattle</th>\n",
              "      <td>2.747755e+06</td>\n",
              "      <td>Seattle</td>\n",
              "    </tr>\n",
              "    <tr>\n",
              "      <th>Portland</th>\n",
              "      <td>2.320491e+06</td>\n",
              "      <td>Portland</td>\n",
              "    </tr>\n",
              "    <tr>\n",
              "      <th>Austin</th>\n",
              "      <td>1.819582e+06</td>\n",
              "      <td>Austin</td>\n",
              "    </tr>\n",
              "  </tbody>\n",
              "</table>\n",
              "</div>"
            ],
            "text/plain": [
              "                       sales           city\n",
              "City                                       \n",
              " San Francisco  8.262204e+06  San Francisco\n",
              " Los Angeles    5.452571e+06    Los Angeles\n",
              " New York City  4.664317e+06  New York City\n",
              " Boston         3.661642e+06         Boston\n",
              " Atlanta        2.795499e+06        Atlanta\n",
              " Dallas         2.767975e+06         Dallas\n",
              " Seattle        2.747755e+06        Seattle\n",
              " Portland       2.320491e+06       Portland\n",
              " Austin         1.819582e+06         Austin"
            ]
          },
          "metadata": {
            "tags": []
          },
          "execution_count": 81
        }
      ]
    },
    {
      "cell_type": "code",
      "metadata": {
        "colab": {
          "base_uri": "https://localhost:8080/",
          "height": 527
        },
        "id": "-G9JvpSdgZVT",
        "outputId": "a4162507-f2c7-4ad2-fa64-a0155432f09a"
      },
      "source": [
        "a4_dims = (11.7, 8.27)\n",
        "fig, ax = plt.subplots(figsize=a4_dims)\n",
        "sns.barplot(x = \"sales\",\n",
        "            y = \"city\",\n",
        "            data = All_city)\n",
        "plt.title(\"City Sales\")\n",
        "plt.show()"
      ],
      "execution_count": 82,
      "outputs": [
        {
          "output_type": "display_data",
          "data": {
            "image/png": "[encoded data removed]",
            "text/plain": [
              "<Figure size 842.4x595.44 with 1 Axes>"
            ]
          },
          "metadata": {
            "tags": [],
            "needs_background": "light"
          }
        }
      ]
    },
    {
      "cell_type": "markdown",
      "metadata": {
        "id": "mZBbl_Kdg_vI"
      },
      "source": [
        "It can be observed that **San Francisco** has most sales **$8262204** "
      ]
    },
    {
      "cell_type": "markdown",
      "metadata": {
        "id": "7cC7JxQRhNWj"
      },
      "source": [
        "## What products sold the most ?"
      ]
    },
    {
      "cell_type": "code",
      "metadata": {
        "id": "zrWZ0A1zg5Nq"
      },
      "source": [
        "Products = Formatted_data.groupby(['Product'])['Quantity Ordered'].sum().sort_values(ascending=False).head()\n",
        "Products = Products.to_frame()"
      ],
      "execution_count": 83,
      "outputs": []
    },
    {
      "cell_type": "code",
      "metadata": {
        "id": "SxuNY1oSgr4B"
      },
      "source": [
        "Product_List=[\"AAA Batteries (4-pack)\",\"AA Batteries (4-pack)\",\"USB-C Charging Cable\",\"Lightning Charging Cable\",\"Wired Headphones\"]"
      ],
      "execution_count": 84,
      "outputs": []
    },
    {
      "cell_type": "code",
      "metadata": {
        "id": "u5mgbP2CiB4W"
      },
      "source": [
        "Products[\"Product\"] = Product_List"
      ],
      "execution_count": 85,
      "outputs": []
    },
    {
      "cell_type": "code",
      "metadata": {
        "colab": {
          "base_uri": "https://localhost:8080/",
          "height": 458
        },
        "id": "UyW4_9KDiWnk",
        "outputId": "79d71e53-ec84-47af-9ab5-5c3c7a1b4fc3"
      },
      "source": [
        "a4_dims = (10, 7)\n",
        "fig, ax = plt.subplots(figsize=a4_dims)\n",
        "sns.barplot(x = \"Quantity Ordered\",\n",
        "            y = \"Product\",\n",
        "            data = Products)\n",
        "plt.title(\"Product vs Quantity Ordered\")\n",
        "plt.show()"
      ],
      "execution_count": 86,
      "outputs": [
        {
          "output_type": "display_data",
          "data": {
            "image/png": "[encoded data removed]",
            "text/plain": [
              "<Figure size 720x504 with 1 Axes>"
            ]
          },
          "metadata": {
            "tags": [],
            "needs_background": "light"
          }
        }
      ]
    },
    {
      "cell_type": "markdown",
      "metadata": {
        "id": "Xrvy6PC3i3O_"
      },
      "source": [
        "The most sold product is AAA Batteries (4-pack) with 31017 quantity of  is sold in a year. It is most sold because it is the cheapest product compared to others"
      ]
    },
    {
      "cell_type": "markdown",
      "metadata": {
        "id": "wCyWAhcQlTI7"
      },
      "source": [
        "## Recommend the most appropriate time to display advertising to maximize the likelihood of customers buying the products?"
      ]
    },
    {
      "cell_type": "code",
      "metadata": {
        "colab": {
          "base_uri": "https://localhost:8080/",
          "height": 428
        },
        "id": "V85-cCMuiydu",
        "outputId": "7d4b9619-6853-4231-9204-04135a79ad39"
      },
      "source": [
        "Times = Formatted_data\n",
        "Time_List = []\n",
        "for i in Times['Order Date']:\n",
        "    Time_List.append(i.split(\" \")[1])\n",
        "Times['Time'] = Time_List\n",
        "Times.head()"
      ],
      "execution_count": 87,
      "outputs": [
        {
          "output_type": "stream",
          "text": [
            "/usr/local/lib/python3.7/dist-packages/ipykernel_launcher.py:5: SettingWithCopyWarning: \n",
            "A value is trying to be set on a copy of a slice from a DataFrame.\n",
            "Try using .loc[row_indexer,col_indexer] = value instead\n",
            "\n",
            "See the caveats in the documentation: https://pandas.pydata.org/pandas-docs/stable/user_guide/indexing.html#returning-a-view-versus-a-copy\n",
            "  \"\"\"\n"
          ],
          "name": "stderr"
        },
        {
          "output_type": "execute_result",
          "data": {
            "text/html": [
              "<div>\n",
              "<style scoped>\n",
              "    .dataframe tbody tr th:only-of-type {\n",
              "        vertical-align: middle;\n",
              "    }\n",
              "\n",
              "    .dataframe tbody tr th {\n",
              "        vertical-align: top;\n",
              "    }\n",
              "\n",
              "    .dataframe thead th {\n",
              "        text-align: right;\n",
              "    }\n",
              "</style>\n",
              "<table border=\"1\" class=\"dataframe\">\n",
              "  <thead>\n",
              "    <tr style=\"text-align: right;\">\n",
              "      <th></th>\n",
              "      <th>Order ID</th>\n",
              "      <th>Product</th>\n",
              "      <th>Quantity Ordered</th>\n",
              "      <th>Price Each</th>\n",
              "      <th>Order Date</th>\n",
              "      <th>Purchase Address</th>\n",
              "      <th>Month</th>\n",
              "      <th>sales</th>\n",
              "      <th>City</th>\n",
              "      <th>Time</th>\n",
              "    </tr>\n",
              "  </thead>\n",
              "  <tbody>\n",
              "    <tr>\n",
              "      <th>0</th>\n",
              "      <td>141234</td>\n",
              "      <td>iPhone</td>\n",
              "      <td>1.0</td>\n",
              "      <td>700.00</td>\n",
              "      <td>01/22/19 21:25</td>\n",
              "      <td>944 Walnut St, Boston, MA 02215</td>\n",
              "      <td>Jan</td>\n",
              "      <td>700.00</td>\n",
              "      <td>Boston</td>\n",
              "      <td>21:25</td>\n",
              "    </tr>\n",
              "    <tr>\n",
              "      <th>1</th>\n",
              "      <td>141235</td>\n",
              "      <td>Lightning Charging Cable</td>\n",
              "      <td>1.0</td>\n",
              "      <td>14.95</td>\n",
              "      <td>01/28/19 14:15</td>\n",
              "      <td>185 Maple St, Portland, OR 97035</td>\n",
              "      <td>Jan</td>\n",
              "      <td>14.95</td>\n",
              "      <td>Portland</td>\n",
              "      <td>14:15</td>\n",
              "    </tr>\n",
              "    <tr>\n",
              "      <th>2</th>\n",
              "      <td>141236</td>\n",
              "      <td>Wired Headphones</td>\n",
              "      <td>2.0</td>\n",
              "      <td>11.99</td>\n",
              "      <td>01/17/19 13:33</td>\n",
              "      <td>538 Adams St, San Francisco, CA 94016</td>\n",
              "      <td>Jan</td>\n",
              "      <td>23.98</td>\n",
              "      <td>San Francisco</td>\n",
              "      <td>13:33</td>\n",
              "    </tr>\n",
              "    <tr>\n",
              "      <th>3</th>\n",
              "      <td>141237</td>\n",
              "      <td>27in FHD Monitor</td>\n",
              "      <td>1.0</td>\n",
              "      <td>149.99</td>\n",
              "      <td>01/05/19 20:33</td>\n",
              "      <td>738 10th St, Los Angeles, CA 90001</td>\n",
              "      <td>Jan</td>\n",
              "      <td>149.99</td>\n",
              "      <td>Los Angeles</td>\n",
              "      <td>20:33</td>\n",
              "    </tr>\n",
              "    <tr>\n",
              "      <th>4</th>\n",
              "      <td>141238</td>\n",
              "      <td>Wired Headphones</td>\n",
              "      <td>1.0</td>\n",
              "      <td>11.99</td>\n",
              "      <td>01/25/19 11:59</td>\n",
              "      <td>387 10th St, Austin, TX 73301</td>\n",
              "      <td>Jan</td>\n",
              "      <td>11.99</td>\n",
              "      <td>Austin</td>\n",
              "      <td>11:59</td>\n",
              "    </tr>\n",
              "  </tbody>\n",
              "</table>\n",
              "</div>"
            ],
            "text/plain": [
              "  Order ID                   Product  ...            City   Time\n",
              "0   141234                    iPhone  ...          Boston  21:25\n",
              "1   141235  Lightning Charging Cable  ...        Portland  14:15\n",
              "2   141236          Wired Headphones  ...   San Francisco  13:33\n",
              "3   141237          27in FHD Monitor  ...     Los Angeles  20:33\n",
              "4   141238          Wired Headphones  ...          Austin  11:59\n",
              "\n",
              "[5 rows x 10 columns]"
            ]
          },
          "metadata": {
            "tags": []
          },
          "execution_count": 87
        }
      ]
    },
    {
      "cell_type": "code",
      "metadata": {
        "colab": {
          "base_uri": "https://localhost:8080/",
          "height": 235
        },
        "id": "UZ5eB9sKmDHP",
        "outputId": "daf3f409-31b5-40ce-fe22-8e09ef24ac90"
      },
      "source": [
        "Time_Group = Formatted_data.groupby(['Time'])['sales'].sum().sort_values(ascending=False).head()\n",
        "Time_Group = Time_Group.to_frame()\n",
        "Time_Group"
      ],
      "execution_count": 88,
      "outputs": [
        {
          "output_type": "execute_result",
          "data": {
            "text/html": [
              "<div>\n",
              "<style scoped>\n",
              "    .dataframe tbody tr th:only-of-type {\n",
              "        vertical-align: middle;\n",
              "    }\n",
              "\n",
              "    .dataframe tbody tr th {\n",
              "        vertical-align: top;\n",
              "    }\n",
              "\n",
              "    .dataframe thead th {\n",
              "        text-align: right;\n",
              "    }\n",
              "</style>\n",
              "<table border=\"1\" class=\"dataframe\">\n",
              "  <thead>\n",
              "    <tr style=\"text-align: right;\">\n",
              "      <th></th>\n",
              "      <th>sales</th>\n",
              "    </tr>\n",
              "    <tr>\n",
              "      <th>Time</th>\n",
              "      <th></th>\n",
              "    </tr>\n",
              "  </thead>\n",
              "  <tbody>\n",
              "    <tr>\n",
              "      <th>19:01</th>\n",
              "      <td>54503.14</td>\n",
              "    </tr>\n",
              "    <tr>\n",
              "      <th>12:21</th>\n",
              "      <td>54181.96</td>\n",
              "    </tr>\n",
              "    <tr>\n",
              "      <th>19:16</th>\n",
              "      <td>54156.39</td>\n",
              "    </tr>\n",
              "    <tr>\n",
              "      <th>20:13</th>\n",
              "      <td>53149.51</td>\n",
              "    </tr>\n",
              "    <tr>\n",
              "      <th>19:20</th>\n",
              "      <td>52903.41</td>\n",
              "    </tr>\n",
              "  </tbody>\n",
              "</table>\n",
              "</div>"
            ],
            "text/plain": [
              "          sales\n",
              "Time           \n",
              "19:01  54503.14\n",
              "12:21  54181.96\n",
              "19:16  54156.39\n",
              "20:13  53149.51\n",
              "19:20  52903.41"
            ]
          },
          "metadata": {
            "tags": []
          },
          "execution_count": 88
        }
      ]
    },
    {
      "cell_type": "markdown",
      "metadata": {
        "id": "wK8aUAernnBf"
      },
      "source": [
        "Total sales peaked at these respective times "
      ]
    },
    {
      "cell_type": "code",
      "metadata": {
        "id": "GJLXDXScmxJe"
      },
      "source": [
        "#End"
      ],
      "execution_count": 89,
      "outputs": []
    }
  ]
}
